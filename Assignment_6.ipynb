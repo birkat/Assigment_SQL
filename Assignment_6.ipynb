{
 "cells": [
  {
   "cell_type": "code",
   "execution_count": 1,
   "id": "5bb8e61f",
   "metadata": {},
   "outputs": [
    {
     "name": "stdout",
     "output_type": "stream",
     "text": [
      "Requirement already satisfied: mysql-connector-python in c:\\users\\sudip\\anaconda3\\lib\\site-packages (8.0.28)\n",
      "Requirement already satisfied: protobuf>=3.0.0 in c:\\users\\sudip\\anaconda3\\lib\\site-packages (from mysql-connector-python) (3.19.4)\n"
     ]
    }
   ],
   "source": [
    "!pip install mysql-connector-python"
   ]
  },
  {
   "cell_type": "code",
   "execution_count": 2,
   "id": "26051f4e",
   "metadata": {},
   "outputs": [],
   "source": [
    "import mysql.connector as conn"
   ]
  },
  {
   "cell_type": "code",
   "execution_count": 4,
   "id": "0f1c53ca",
   "metadata": {},
   "outputs": [],
   "source": [
    "mydb = conn.connect(host = \"localhost\", user = \"root\", passwd = \"mysql\")"
   ]
  },
  {
   "cell_type": "code",
   "execution_count": 5,
   "id": "4610e47d",
   "metadata": {},
   "outputs": [],
   "source": [
    "cursor = mydb.cursor()"
   ]
  },
  {
   "cell_type": "code",
   "execution_count": 6,
   "id": "c23f3b81",
   "metadata": {},
   "outputs": [],
   "source": [
    "cursor.execute('use assim_sql')"
   ]
  },
  {
   "cell_type": "code",
   "execution_count": 45,
   "id": "6caa9258",
   "metadata": {},
   "outputs": [
    {
     "data": {
      "text/plain": [
       "[(1,\n",
       "  'Mukesh shrestha',\n",
       "  'Top level',\n",
       "  230000,\n",
       "  datetime.datetime(2014, 2, 11, 0, 0)),\n",
       " (2,\n",
       "  'Sabita Malla',\n",
       "  'Account',\n",
       "  55000,\n",
       "  datetime.datetime(2011, 9, 23, 9, 34, 21)),\n",
       " (3,\n",
       "  'Binay Panjiyar',\n",
       "  'Account',\n",
       "  41000,\n",
       "  datetime.datetime(2014, 11, 27, 10, 35, 29)),\n",
       " (4, 'Sujan Joshi', 'Cash', 63000, datetime.datetime(2014, 2, 2, 10, 43, 39)),\n",
       " (5, 'Ram Shah', 'Driver', 32500, datetime.datetime(2014, 3, 5, 11, 35, 23)),\n",
       " (6,\n",
       "  'Hari Lama',\n",
       "  'Marketing',\n",
       "  115300,\n",
       "  datetime.datetime(2014, 2, 19, 10, 45, 13)),\n",
       " (7,\n",
       "  'Bishal Kumar',\n",
       "  'Top level',\n",
       "  215000,\n",
       "  datetime.datetime(2014, 3, 16, 12, 39, 10)),\n",
       " (8,\n",
       "  'Kavi Bhatari',\n",
       "  'Top level',\n",
       "  215000,\n",
       "  datetime.datetime(2016, 9, 22, 12, 39, 10)),\n",
       " (9,\n",
       "  'Amitabh Bhata',\n",
       "  'CEO',\n",
       "  350000,\n",
       "  datetime.datetime(2016, 9, 22, 11, 23, 17)),\n",
       " (10,\n",
       "  'Vipul Sarma',\n",
       "  'Marketing',\n",
       "  123500,\n",
       "  datetime.datetime(2014, 2, 24, 11, 23, 17)),\n",
       " (11,\n",
       "  'Satish Kumar',\n",
       "  'Marketing',\n",
       "  123500,\n",
       "  datetime.datetime(2013, 3, 22, 11, 23, 17))]"
      ]
     },
     "execution_count": 45,
     "metadata": {},
     "output_type": "execute_result"
    }
   ],
   "source": [
    "cursor.execute('SELECT * FROM worker_table')\n",
    "cursor.fetchall()"
   ]
  },
  {
   "cell_type": "code",
   "execution_count": 21,
   "id": "8c5abb23",
   "metadata": {},
   "outputs": [
    {
     "data": {
      "text/plain": [
       "'Assignment_6'"
      ]
     },
     "execution_count": 21,
     "metadata": {},
     "output_type": "execute_result"
    }
   ],
   "source": [
    "\"\"\"Assignment_6\"\"\""
   ]
  },
  {
   "cell_type": "code",
   "execution_count": 11,
   "id": "a3bdf6e9",
   "metadata": {},
   "outputs": [],
   "source": [
    "cursor.execute('ALTER TABLE worker_table ADD COLUMN Date_Time DATETIME NOT NULL')"
   ]
  },
  {
   "cell_type": "code",
   "execution_count": 43,
   "id": "eb36d1cf",
   "metadata": {},
   "outputs": [],
   "source": [
    "cursor.execute('UPDATE worker_table SET Date_Time = \"2013-03-22 11:23:17\" WHERE Id = 11')"
   ]
  },
  {
   "cell_type": "code",
   "execution_count": 44,
   "id": "ea75d222",
   "metadata": {},
   "outputs": [],
   "source": [
    "mydb.commit()"
   ]
  },
  {
   "cell_type": "code",
   "execution_count": 58,
   "id": "f8004521",
   "metadata": {},
   "outputs": [
    {
     "data": {
      "text/plain": [
       "[(1,\n",
       "  'Mukesh shrestha',\n",
       "  'Top level',\n",
       "  230000,\n",
       "  datetime.datetime(2014, 2, 11, 0, 0)),\n",
       " (4, 'Sujan Joshi', 'Cash', 63000, datetime.datetime(2014, 2, 2, 10, 43, 39)),\n",
       " (6,\n",
       "  'Hari Lama',\n",
       "  'Marketing',\n",
       "  115300,\n",
       "  datetime.datetime(2014, 2, 19, 10, 45, 13)),\n",
       " (10,\n",
       "  'Vipul Sarma',\n",
       "  'Marketing',\n",
       "  123500,\n",
       "  datetime.datetime(2014, 2, 24, 11, 23, 17))]"
      ]
     },
     "execution_count": 58,
     "metadata": {},
     "output_type": "execute_result"
    }
   ],
   "source": [
    "\"\"\"Q-1. Write an SQL query to print details of the Workers who have joined in Feb’2014.\"\"\"\n",
    "\n",
    "cursor.execute('SELECT * FROM worker_table WHERE Date_time LIKE \"2014-02%\"');\n",
    "cursor.fetchall()"
   ]
  },
  {
   "cell_type": "code",
   "execution_count": 61,
   "id": "15be6491",
   "metadata": {},
   "outputs": [
    {
     "data": {
      "text/plain": [
       "[('Top level', 215000, 2), ('Marketing', 123500, 2)]"
      ]
     },
     "execution_count": 61,
     "metadata": {},
     "output_type": "execute_result"
    }
   ],
   "source": [
    "\"\"\"Q-2. Write an SQL query to fetch duplicate records having matching data in some fields of\n",
    "a table.\"\"\"\n",
    "\n",
    "cursor.execute('SELECT Department, Salary, COUNT(*) FROM worker_table GROUP BY Department, Salary HAVING COUNT(*) > 1')\n",
    "cursor.fetchall()"
   ]
  },
  {
   "cell_type": "code",
   "execution_count": null,
   "id": "6c91b2ac",
   "metadata": {},
   "outputs": [],
   "source": [
    "\"\"\"Q-3. How to remove duplicate rows from Employees table.\"\"\"\n",
    "\n",
    "cursor.execute('DELETE Department FROM worker_table wt1 INNER JOIN worker_table wt2 ON wt1.Id > wt2.Id AND wt1.email = wt2.email')\n",
    "cursor.fetchall()"
   ]
  }
 ],
 "metadata": {
  "kernelspec": {
   "display_name": "Python 3 (ipykernel)",
   "language": "python",
   "name": "python3"
  },
  "language_info": {
   "codemirror_mode": {
    "name": "ipython",
    "version": 3
   },
   "file_extension": ".py",
   "mimetype": "text/x-python",
   "name": "python",
   "nbconvert_exporter": "python",
   "pygments_lexer": "ipython3",
   "version": "3.9.7"
  }
 },
 "nbformat": 4,
 "nbformat_minor": 5
}
