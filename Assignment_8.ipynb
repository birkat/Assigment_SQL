{
 "cells": [
  {
   "cell_type": "code",
   "execution_count": 1,
   "id": "e52fa892",
   "metadata": {},
   "outputs": [],
   "source": [
    "import mysql.connector as conn"
   ]
  },
  {
   "cell_type": "code",
   "execution_count": 3,
   "id": "775b0660",
   "metadata": {},
   "outputs": [],
   "source": [
    "mydb = conn.connect(host = \"localhost\", user = \"root\", passwd = \"mysql\")"
   ]
  },
  {
   "cell_type": "code",
   "execution_count": 4,
   "id": "bcca7de7",
   "metadata": {},
   "outputs": [],
   "source": [
    "cursor = mydb.cursor()"
   ]
  },
  {
   "cell_type": "code",
   "execution_count": 6,
   "id": "6e6dd8cf",
   "metadata": {},
   "outputs": [],
   "source": [
    "cursor.execute('use student')"
   ]
  },
  {
   "cell_type": "code",
   "execution_count": 7,
   "id": "52bd906f",
   "metadata": {},
   "outputs": [
    {
     "data": {
      "text/plain": [
       "[(1, 'Ram Kumar', 19, 'M', '67843432', 'Agra'),\n",
       " (2, 'Shyam Kumar', 18, 'M', '63333432', 'Pune'),\n",
       " (3, 'Sita Kumari', 21, 'F', '633335432', 'Pune'),\n",
       " (4, 'Sita Ram', 23, 'M', '63332432', 'Agra'),\n",
       " (5, 'Mainsh Chaudhary', 26, 'M', '61112432', 'Agra'),\n",
       " (6, 'Sarita Chaudhary', 28, 'F', '61342432', 'Bhopal')]"
      ]
     },
     "execution_count": 7,
     "metadata": {},
     "output_type": "execute_result"
    }
   ],
   "source": [
    "cursor.execute('SELECT * FROM person')\n",
    "cursor.fetchall()"
   ]
  },
  {
   "cell_type": "code",
   "execution_count": 8,
   "id": "553b12a3",
   "metadata": {},
   "outputs": [
    {
     "data": {
      "text/plain": [
       "[(1, 'Agra'), (2, 'Delhi'), (3, 'Bhopal'), (4, 'Jaipur'), (5, 'Noida')]"
      ]
     },
     "execution_count": 8,
     "metadata": {},
     "output_type": "execute_result"
    }
   ],
   "source": [
    "cursor.execute('SELECT * FROM city')\n",
    "cursor.fetchall()"
   ]
  },
  {
   "cell_type": "code",
   "execution_count": 10,
   "id": "cf88fc8b",
   "metadata": {},
   "outputs": [
    {
     "data": {
      "text/plain": [
       "[(1, 'Ram Kumar', 'Agra'),\n",
       " (2, 'Shyam Kumar', 'Pune'),\n",
       " (3, 'Sita Kumari', 'Pune'),\n",
       " (4, 'Sita Ram', 'Agra'),\n",
       " (5, 'Mainsh Chaudhary', 'Agra'),\n",
       " (6, 'Sarita Chaudhary', 'Bhopal')]"
      ]
     },
     "execution_count": 10,
     "metadata": {},
     "output_type": "execute_result"
    }
   ],
   "source": [
    "\"\"\"Q-15. Write an SQL query to fetch intersecting records of two tables.\"\"\"\n",
    "\n",
    "cursor.execute('SELECT id, name, city FROM person p LEFT JOIN city c ON p.city = c.cid')\n",
    "cursor.fetchall()"
   ]
  },
  {
   "cell_type": "code",
   "execution_count": 15,
   "id": "f692ade9",
   "metadata": {},
   "outputs": [
    {
     "data": {
      "text/plain": [
       "[(None, None, None, 'Agra'),\n",
       " (None, None, None, 'Delhi'),\n",
       " (None, None, None, 'Bhopal'),\n",
       " (None, None, None, 'Jaipur'),\n",
       " (None, None, None, 'Noida')]"
      ]
     },
     "execution_count": 15,
     "metadata": {},
     "output_type": "execute_result"
    }
   ],
   "source": [
    "\"\"\"Q-16. Write an SQL query to show records from one table that another table does not\n",
    "have.\"\"\"\n",
    "\n",
    "cursor.execute('SELECT id, p.name, p.city, c.cityname FROM person p RIGHT JOIN city c ON p.city = c.cid')\n",
    "cursor.fetchall()"
   ]
  },
  {
   "cell_type": "code",
   "execution_count": null,
   "id": "65924e4e",
   "metadata": {},
   "outputs": [],
   "source": []
  }
 ],
 "metadata": {
  "kernelspec": {
   "display_name": "Python 3 (ipykernel)",
   "language": "python",
   "name": "python3"
  },
  "language_info": {
   "codemirror_mode": {
    "name": "ipython",
    "version": 3
   },
   "file_extension": ".py",
   "mimetype": "text/x-python",
   "name": "python",
   "nbconvert_exporter": "python",
   "pygments_lexer": "ipython3",
   "version": "3.9.7"
  }
 },
 "nbformat": 4,
 "nbformat_minor": 5
}
