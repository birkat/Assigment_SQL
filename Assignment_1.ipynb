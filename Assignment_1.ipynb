{
 "cells": [
  {
   "cell_type": "code",
   "execution_count": 3,
   "id": "6090a4ce",
   "metadata": {},
   "outputs": [
    {
     "name": "stdout",
     "output_type": "stream",
     "text": [
      "Requirement already satisfied: mysql-connector-python in c:\\users\\sudip\\anaconda3\\lib\\site-packages (8.0.28)\n",
      "Requirement already satisfied: protobuf>=3.0.0 in c:\\users\\sudip\\anaconda3\\lib\\site-packages (from mysql-connector-python) (3.19.4)\n"
     ]
    }
   ],
   "source": [
    "!pip install mysql-connector-python"
   ]
  },
  {
   "cell_type": "code",
   "execution_count": 35,
   "id": "6da47f7e",
   "metadata": {},
   "outputs": [],
   "source": [
    "import mysql.connector as conn"
   ]
  },
  {
   "cell_type": "code",
   "execution_count": 36,
   "id": "a54442d4",
   "metadata": {},
   "outputs": [],
   "source": [
    "mydb = conn.connect(host = \"localhost\", user = \"root\", passwd = \"mysql\")"
   ]
  },
  {
   "cell_type": "code",
   "execution_count": 37,
   "id": "41f7dd80",
   "metadata": {},
   "outputs": [],
   "source": [
    "cursor = mydb.cursor()"
   ]
  },
  {
   "cell_type": "code",
   "execution_count": 38,
   "id": "d056a6ac",
   "metadata": {},
   "outputs": [],
   "source": [
    "cursor.execute(\"show databases\")"
   ]
  },
  {
   "cell_type": "code",
   "execution_count": 39,
   "id": "ba4f1a30",
   "metadata": {},
   "outputs": [
    {
     "data": {
      "text/plain": [
       "[('assim_sql',),\n",
       " ('bestman',),\n",
       " ('cardata',),\n",
       " ('cardataset',),\n",
       " ('glassdata',),\n",
       " ('icardata',),\n",
       " ('information_schema',),\n",
       " ('kumari',),\n",
       " ('mysql',),\n",
       " ('performance_schema',),\n",
       " ('sakila',),\n",
       " ('student',),\n",
       " ('suman',),\n",
       " ('sys',),\n",
       " ('testcav',),\n",
       " ('testsud',),\n",
       " ('testsudh',),\n",
       " ('testsudhineuron',),\n",
       " ('testsus',),\n",
       " ('world',)]"
      ]
     },
     "execution_count": 39,
     "metadata": {},
     "output_type": "execute_result"
    }
   ],
   "source": [
    "cursor.fetchall()"
   ]
  },
  {
   "cell_type": "code",
   "execution_count": 11,
   "id": "ed378c1b",
   "metadata": {},
   "outputs": [],
   "source": [
    "cursor.execute(\"CREATE DATABASE assim_sql\")"
   ]
  },
  {
   "cell_type": "code",
   "execution_count": 40,
   "id": "263da207",
   "metadata": {},
   "outputs": [],
   "source": [
    "cursor.execute(\"USE assim_sql\")"
   ]
  },
  {
   "cell_type": "code",
   "execution_count": null,
   "id": "7fea2db0",
   "metadata": {},
   "outputs": [],
   "source": [
    "cursor.execute(\"CREATE TABLE Worker_Table (Id INT NOT NULL UNIQUE, First_Name VARCHAR(50) NOT NULL, Department VARCHAR(50) NOT NULL UNIQUE)\")"
   ]
  },
  {
   "cell_type": "code",
   "execution_count": 26,
   "id": "e754d6d5",
   "metadata": {},
   "outputs": [],
   "source": [
    "cursor.execute('INSERT INTO worker_Table VALUE(8, \"Kavi Bhatari\", \"Top level\" )')"
   ]
  },
  {
   "cell_type": "code",
   "execution_count": 41,
   "id": "d9a1df9c",
   "metadata": {},
   "outputs": [],
   "source": [
    "cursor.execute('SELECT * FROM assim_sql.Worker_Table')"
   ]
  },
  {
   "cell_type": "code",
   "execution_count": 42,
   "id": "4d42b973",
   "metadata": {},
   "outputs": [
    {
     "data": {
      "text/plain": [
       "[(1, 'Mukesh shrestha', 'Top level'),\n",
       " (2, 'Sabita Malla', 'Account'),\n",
       " (3, 'Binay Panjiyar', 'Account'),\n",
       " (4, 'Sujan Joshi', 'Cash'),\n",
       " (5, 'Ram Shah', 'Driver'),\n",
       " (6, 'Hari Lama', 'Marketing'),\n",
       " (7, 'Bishal Kumar', 'Top level'),\n",
       " (8, 'Kavi Bhatari', 'Top level')]"
      ]
     },
     "execution_count": 42,
     "metadata": {},
     "output_type": "execute_result"
    }
   ],
   "source": [
    "cursor.fetchall()"
   ]
  },
  {
   "cell_type": "code",
   "execution_count": 19,
   "id": "5df8ccfc",
   "metadata": {},
   "outputs": [],
   "source": [
    "cursor.execute('ALTER TABLE Worker_Table MODIFY COLUMN Department VARCHAR(50) NOT NULL')"
   ]
  },
  {
   "cell_type": "code",
   "execution_count": 27,
   "id": "fa354be8",
   "metadata": {},
   "outputs": [],
   "source": [
    "mydb.commit()"
   ]
  },
  {
   "cell_type": "code",
   "execution_count": 30,
   "id": "d5473216",
   "metadata": {},
   "outputs": [
    {
     "data": {
      "text/plain": [
       "'Assigment_1'"
      ]
     },
     "execution_count": 30,
     "metadata": {},
     "output_type": "execute_result"
    }
   ],
   "source": [
    "\"\"\"Assigment_1\"\"\""
   ]
  },
  {
   "cell_type": "code",
   "execution_count": 45,
   "id": "5657f0c6",
   "metadata": {},
   "outputs": [
    {
     "data": {
      "text/plain": [
       "[('Mukesh shrestha',),\n",
       " ('Sabita Malla',),\n",
       " ('Binay Panjiyar',),\n",
       " ('Sujan Joshi',),\n",
       " ('Ram Shah',),\n",
       " ('Hari Lama',),\n",
       " ('Bishal Kumar',),\n",
       " ('Kavi Bhatari',)]"
      ]
     },
     "execution_count": 45,
     "metadata": {},
     "output_type": "execute_result"
    }
   ],
   "source": [
    "\"\"\"Q-1. Write an SQL query to fetch “FIRST_NAME” from Worker table using the alias\n",
    "name as <WORKER_NAME> \"\"\"\n",
    "\n",
    "cursor.execute('SELECT First_Name AS WORKER_NAME FROM Worker_Table')\n",
    "cursor.fetchall()"
   ]
  },
  {
   "cell_type": "code",
   "execution_count": 46,
   "id": "bbe925df",
   "metadata": {},
   "outputs": [
    {
     "data": {
      "text/plain": [
       "[('Top level',), ('Account',), ('Cash',), ('Driver',), ('Marketing',)]"
      ]
     },
     "execution_count": 46,
     "metadata": {},
     "output_type": "execute_result"
    }
   ],
   "source": [
    "\"\"\"Q-2. Write an SQL query to fetch unique values of DEPARTMENT from Worker table.\"\"\"\n",
    "\n",
    "cursor.execute('SELECT DISTINCT Department FROM worker_table')\n",
    "cursor.fetchall()"
   ]
  },
  {
   "cell_type": "code",
   "execution_count": 51,
   "id": "f149aae2",
   "metadata": {},
   "outputs": [
    {
     "data": {
      "text/plain": [
       "[(8, 'Kavi Bhatari', 'Top level'),\n",
       " (7, 'Bishal Kumar', 'Top level'),\n",
       " (6, 'Hari Lama', 'Marketing'),\n",
       " (5, 'Ram Shah', 'Driver'),\n",
       " (4, 'Sujan Joshi', 'Cash')]"
      ]
     },
     "execution_count": 51,
     "metadata": {},
     "output_type": "execute_result"
    }
   ],
   "source": [
    "\"\"\"Q-3. Write an SQL query to show the last 5 record from a table.\"\"\"\n",
    "\n",
    "cursor.execute('SELECT * FROM worker_table ORDER BY Id DESC LIMIT 5')\n",
    "cursor.fetchall()"
   ]
  },
  {
   "cell_type": "code",
   "execution_count": null,
   "id": "5a7139b2",
   "metadata": {},
   "outputs": [],
   "source": []
  }
 ],
 "metadata": {
  "kernelspec": {
   "display_name": "Python 3 (ipykernel)",
   "language": "python",
   "name": "python3"
  },
  "language_info": {
   "codemirror_mode": {
    "name": "ipython",
    "version": 3
   },
   "file_extension": ".py",
   "mimetype": "text/x-python",
   "name": "python",
   "nbconvert_exporter": "python",
   "pygments_lexer": "ipython3",
   "version": "3.9.7"
  }
 },
 "nbformat": 4,
 "nbformat_minor": 5
}
