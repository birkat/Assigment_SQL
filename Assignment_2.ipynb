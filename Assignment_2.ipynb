{
 "cells": [
  {
   "cell_type": "code",
   "execution_count": 1,
   "id": "5c250580",
   "metadata": {},
   "outputs": [
    {
     "name": "stdout",
     "output_type": "stream",
     "text": [
      "Requirement already satisfied: mysql-connector-python in c:\\users\\sudip\\anaconda3\\lib\\site-packages (8.0.28)\n",
      "Requirement already satisfied: protobuf>=3.0.0 in c:\\users\\sudip\\anaconda3\\lib\\site-packages (from mysql-connector-python) (3.19.4)\n"
     ]
    }
   ],
   "source": [
    "!pip install mysql-connector-python"
   ]
  },
  {
   "cell_type": "code",
   "execution_count": 1,
   "id": "de651723",
   "metadata": {},
   "outputs": [],
   "source": [
    "import mysql.connector as conn"
   ]
  },
  {
   "cell_type": "code",
   "execution_count": 2,
   "id": "8b4efc70",
   "metadata": {},
   "outputs": [],
   "source": [
    "mydb = conn.connect(host = \"localhost\", user = \"root\", passwd = \"mysql\")"
   ]
  },
  {
   "cell_type": "code",
   "execution_count": 3,
   "id": "2c2cb63b",
   "metadata": {},
   "outputs": [],
   "source": [
    "cursor = mydb.cursor()"
   ]
  },
  {
   "cell_type": "code",
   "execution_count": 4,
   "id": "8be0f7f9",
   "metadata": {},
   "outputs": [],
   "source": [
    "cursor.execute('show databases')"
   ]
  },
  {
   "cell_type": "code",
   "execution_count": 5,
   "id": "1cfd8160",
   "metadata": {},
   "outputs": [
    {
     "data": {
      "text/plain": [
       "[('assim_sql',),\n",
       " ('bestman',),\n",
       " ('cardata',),\n",
       " ('cardataset',),\n",
       " ('glassdata',),\n",
       " ('icardata',),\n",
       " ('information_schema',),\n",
       " ('kumari',),\n",
       " ('mysql',),\n",
       " ('performance_schema',),\n",
       " ('sakila',),\n",
       " ('student',),\n",
       " ('suman',),\n",
       " ('sys',),\n",
       " ('testcav',),\n",
       " ('testsud',),\n",
       " ('testsudh',),\n",
       " ('testsudhineuron',),\n",
       " ('testsus',),\n",
       " ('world',)]"
      ]
     },
     "execution_count": 5,
     "metadata": {},
     "output_type": "execute_result"
    }
   ],
   "source": [
    "cursor.fetchall()"
   ]
  },
  {
   "cell_type": "code",
   "execution_count": 32,
   "id": "5f1dba37",
   "metadata": {},
   "outputs": [],
   "source": [
    "cursor.execute('use assim_sql')"
   ]
  },
  {
   "cell_type": "code",
   "execution_count": 33,
   "id": "83438e45",
   "metadata": {},
   "outputs": [],
   "source": [
    "cursor.execute('SELECT * FROM worker_table')"
   ]
  },
  {
   "cell_type": "code",
   "execution_count": 34,
   "id": "ad7e01ef",
   "metadata": {},
   "outputs": [
    {
     "data": {
      "text/plain": [
       "[(1, 'Mukesh shrestha', 'Top level', 230000),\n",
       " (2, 'Sabita Malla', 'Account', 55000),\n",
       " (3, 'Binay Panjiyar', 'Account', 41000),\n",
       " (4, 'Sujan Joshi', 'Cash', 63000),\n",
       " (5, 'Ram Shah', 'Driver', 32500),\n",
       " (6, 'Hari Lama', 'Marketing', 115300),\n",
       " (7, 'Bishal Kumar', 'Top level', 215000),\n",
       " (8, 'Kavi Bhatari', 'Top level', 215000),\n",
       " (9, 'Amitabh Bhata', 'CEO', 350000)]"
      ]
     },
     "execution_count": 34,
     "metadata": {},
     "output_type": "execute_result"
    }
   ],
   "source": [
    "cursor.fetchall()"
   ]
  },
  {
   "cell_type": "code",
   "execution_count": 11,
   "id": "8f3d2a31",
   "metadata": {},
   "outputs": [
    {
     "data": {
      "text/plain": [
       "'Assignment_2'"
      ]
     },
     "execution_count": 11,
     "metadata": {},
     "output_type": "execute_result"
    }
   ],
   "source": [
    "\"\"\"Assignment_2\"\"\""
   ]
  },
  {
   "cell_type": "code",
   "execution_count": 17,
   "id": "2e1c0a4b",
   "metadata": {},
   "outputs": [
    {
     "data": {
      "text/plain": [
       "[('Muk',),\n",
       " ('Sab',),\n",
       " ('Bin',),\n",
       " ('Suj',),\n",
       " ('Ram',),\n",
       " ('Har',),\n",
       " ('Bis',),\n",
       " ('Kav',)]"
      ]
     },
     "execution_count": 17,
     "metadata": {},
     "output_type": "execute_result"
    }
   ],
   "source": [
    "\"\"\"Q-1. Write an SQL query to print the first three characters of  FIRST_NAME from Worker\n",
    "table.\"\"\"\n",
    "\n",
    "cursor.execute('SELECT SUBSTRING(First_Name, 1, 3) AS 1st_3_char FROM worker_table')\n",
    "cursor.fetchall()"
   ]
  },
  {
   "cell_type": "code",
   "execution_count": 18,
   "id": "0a07414c",
   "metadata": {},
   "outputs": [],
   "source": [
    "cursor.execute('INSERT INTO worker_table VALUE(9, \"Amitabh Bhata\", \"CEO\")')"
   ]
  },
  {
   "cell_type": "code",
   "execution_count": 35,
   "id": "37dc2a05",
   "metadata": {},
   "outputs": [],
   "source": [
    "mydb.commit()"
   ]
  },
  {
   "cell_type": "code",
   "execution_count": 39,
   "id": "a2fafb69",
   "metadata": {},
   "outputs": [
    {
     "data": {
      "text/plain": [
       "[(1,)]"
      ]
     },
     "execution_count": 39,
     "metadata": {},
     "output_type": "execute_result"
    }
   ],
   "source": [
    "\"\"\"Q-2. Write an SQL query to find the position of the alphabet (‘a’) in the first name\n",
    "column ‘Amitabh’ from Worker table.\"\"\"\n",
    "\n",
    "# cursor.execute('SELECT POSITION(\"a\" IN First_Name) AS Name FROM worker_table')\n",
    "# cursor.fetchall()\n",
    "cursor.execute('SELECT POSITION(\"a\" IN \"Amitabh\") AS Name')\n",
    "cursor.fetchall()"
   ]
  },
  {
   "cell_type": "code",
   "execution_count": 44,
   "id": "fc168cc8",
   "metadata": {},
   "outputs": [
    {
     "data": {
      "text/plain": [
       "[('Mukesh shrestha', 15),\n",
       " ('Sabita Malla', 2),\n",
       " ('Binay Panjiyar', 4),\n",
       " ('Sujan Joshi', 4),\n",
       " ('Ram Shah', 2),\n",
       " ('Hari Lama', 2),\n",
       " ('Bishal Kumar', 5),\n",
       " ('Kavi Bhatari', 2),\n",
       " ('Amitabh Bhata', 1)]"
      ]
     },
     "execution_count": 44,
     "metadata": {},
     "output_type": "execute_result"
    }
   ],
   "source": [
    "cursor.execute('SELECT First_Name, POSITION(\"a\" IN First_Name) AS Name FROM worker_table')\n",
    "cursor.fetchall()"
   ]
  },
  {
   "cell_type": "code",
   "execution_count": null,
   "id": "b1d36c1e",
   "metadata": {},
   "outputs": [],
   "source": [
    "cursor.execute('ALTER TABLE worker_table ADD Salary INT NOT NULL')\n",
    "mydb.commit()"
   ]
  },
  {
   "cell_type": "code",
   "execution_count": 29,
   "id": "76bff837",
   "metadata": {},
   "outputs": [],
   "source": [
    "cursor.execute('UPDATE worker_table SET Salary = 350000 WHERE Id = 9')"
   ]
  },
  {
   "cell_type": "code",
   "execution_count": 38,
   "id": "d7e54dc2",
   "metadata": {},
   "outputs": [
    {
     "data": {
      "text/plain": [
       "[('Mukesh shrestha', 'Top level', 230000),\n",
       " ('Sabita Malla', 'Account', 55000),\n",
       " ('Sujan Joshi', 'Cash', 63000),\n",
       " ('Ram Shah', 'Driver', 32500),\n",
       " ('Hari Lama', 'Marketing', 115300),\n",
       " ('Amitabh Bhata', 'CEO', 350000)]"
      ]
     },
     "execution_count": 38,
     "metadata": {},
     "output_type": "execute_result"
    }
   ],
   "source": [
    "\"\"\"Q-3. Write an SQL query to print the name of employees having the highest salary in each\n",
    "department.\"\"\"\n",
    "\n",
    "cursor.execute('SELECT First_Name, Department, Salary FROM worker_Table GROUP BY Department HAVING MAX(Salary)')\n",
    "cursor.fetchall()"
   ]
  },
  {
   "cell_type": "code",
   "execution_count": 37,
   "id": "7dfb70f0",
   "metadata": {},
   "outputs": [
    {
     "data": {
      "text/plain": [
       "[(1, 'Mukesh shrestha', 'Top level', 230000),\n",
       " (2, 'Sabita Malla', 'Account', 55000),\n",
       " (3, 'Binay Panjiyar', 'Account', 41000),\n",
       " (4, 'Sujan Joshi', 'Cash', 63000),\n",
       " (5, 'Ram Shah', 'Driver', 32500),\n",
       " (6, 'Hari Lama', 'Marketing', 115300),\n",
       " (7, 'Bishal Kumar', 'Top level', 215000),\n",
       " (8, 'Kavi Bhatari', 'Top level', 215000),\n",
       " (9, 'Amitabh Bhata', 'CEO', 350000)]"
      ]
     },
     "execution_count": 37,
     "metadata": {},
     "output_type": "execute_result"
    }
   ],
   "source": [
    "cursor.execute('SELECT * FROM worker_table')\n",
    "cursor.fetchall()"
   ]
  },
  {
   "cell_type": "code",
   "execution_count": null,
   "id": "191899ea",
   "metadata": {},
   "outputs": [],
   "source": []
  }
 ],
 "metadata": {
  "kernelspec": {
   "display_name": "Python 3 (ipykernel)",
   "language": "python",
   "name": "python3"
  },
  "language_info": {
   "codemirror_mode": {
    "name": "ipython",
    "version": 3
   },
   "file_extension": ".py",
   "mimetype": "text/x-python",
   "name": "python",
   "nbconvert_exporter": "python",
   "pygments_lexer": "ipython3",
   "version": "3.9.7"
  }
 },
 "nbformat": 4,
 "nbformat_minor": 5
}
