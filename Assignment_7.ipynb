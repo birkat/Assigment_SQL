{
 "cells": [
  {
   "cell_type": "code",
   "execution_count": 1,
   "id": "990f54a0",
   "metadata": {},
   "outputs": [
    {
     "name": "stdout",
     "output_type": "stream",
     "text": [
      "Requirement already satisfied: mysql_connector_python in c:\\users\\sudip\\anaconda3\\lib\\site-packages (8.0.28)\n",
      "Requirement already satisfied: protobuf>=3.0.0 in c:\\users\\sudip\\anaconda3\\lib\\site-packages (from mysql_connector_python) (3.19.4)\n"
     ]
    }
   ],
   "source": [
    "!pip install mysql_connector_python"
   ]
  },
  {
   "cell_type": "code",
   "execution_count": 2,
   "id": "03c290a4",
   "metadata": {},
   "outputs": [],
   "source": [
    "import mysql.connector as conn"
   ]
  },
  {
   "cell_type": "code",
   "execution_count": 9,
   "id": "6091d4a8",
   "metadata": {},
   "outputs": [],
   "source": [
    "mydb = conn.connect(host = \"localhost\", user = \"root\", passwd = \"mysql\")"
   ]
  },
  {
   "cell_type": "code",
   "execution_count": 10,
   "id": "1e5692c7",
   "metadata": {},
   "outputs": [],
   "source": [
    "cursor = mydb.cursor()"
   ]
  },
  {
   "cell_type": "code",
   "execution_count": 11,
   "id": "ee92cd7f",
   "metadata": {},
   "outputs": [],
   "source": [
    "cursor.execute('use assim_sql')"
   ]
  },
  {
   "cell_type": "code",
   "execution_count": 12,
   "id": "eaafcd24",
   "metadata": {},
   "outputs": [
    {
     "data": {
      "text/plain": [
       "[(1,\n",
       "  'Mukesh shrestha',\n",
       "  'Top level',\n",
       "  230000,\n",
       "  datetime.datetime(2014, 2, 11, 0, 0)),\n",
       " (2,\n",
       "  'Sabita Malla',\n",
       "  'Account',\n",
       "  55000,\n",
       "  datetime.datetime(2011, 9, 23, 9, 34, 21)),\n",
       " (3,\n",
       "  'Binay Panjiyar',\n",
       "  'Account',\n",
       "  41000,\n",
       "  datetime.datetime(2014, 11, 27, 10, 35, 29)),\n",
       " (4, 'Sujan Joshi', 'Cash', 63000, datetime.datetime(2014, 2, 2, 10, 43, 39)),\n",
       " (5, 'Ram Shah', 'Driver', 32500, datetime.datetime(2014, 3, 5, 11, 35, 23)),\n",
       " (6,\n",
       "  'Hari Lama',\n",
       "  'Marketing',\n",
       "  115300,\n",
       "  datetime.datetime(2014, 2, 19, 10, 45, 13)),\n",
       " (7,\n",
       "  'Bishal Kumar',\n",
       "  'Top level',\n",
       "  215000,\n",
       "  datetime.datetime(2014, 3, 16, 12, 39, 10)),\n",
       " (8,\n",
       "  'Kavi Bhatari',\n",
       "  'Top level',\n",
       "  215000,\n",
       "  datetime.datetime(2016, 9, 22, 12, 39, 10)),\n",
       " (9,\n",
       "  'Amitabh Bhata',\n",
       "  'CEO',\n",
       "  350000,\n",
       "  datetime.datetime(2016, 9, 22, 11, 23, 17)),\n",
       " (10,\n",
       "  'Vipul Sarma',\n",
       "  'Marketing',\n",
       "  123500,\n",
       "  datetime.datetime(2014, 2, 24, 11, 23, 17)),\n",
       " (11,\n",
       "  'Satish Kumar',\n",
       "  'Marketing',\n",
       "  123500,\n",
       "  datetime.datetime(2013, 3, 22, 11, 23, 17))]"
      ]
     },
     "execution_count": 12,
     "metadata": {},
     "output_type": "execute_result"
    }
   ],
   "source": [
    "cursor.execute('SELECT * FROM worker_table')\n",
    "cursor.fetchall()"
   ]
  },
  {
   "cell_type": "code",
   "execution_count": 13,
   "id": "d4c6d05f",
   "metadata": {},
   "outputs": [
    {
     "data": {
      "text/plain": [
       "'Assigment_7'"
      ]
     },
     "execution_count": 13,
     "metadata": {},
     "output_type": "execute_result"
    }
   ],
   "source": [
    "\"\"\"Assigment_7\"\"\""
   ]
  },
  {
   "cell_type": "code",
   "execution_count": 14,
   "id": "a49f162d",
   "metadata": {},
   "outputs": [
    {
     "data": {
      "text/plain": [
       "[(1, 'Mukesh shrestha', 'Top level', 230000),\n",
       " (3, 'Binay Panjiyar', 'Account', 41000),\n",
       " (5, 'Ram Shah', 'Driver', 32500),\n",
       " (7, 'Bishal Kumar', 'Top level', 215000),\n",
       " (9, 'Amitabh Bhata', 'CEO', 350000),\n",
       " (11, 'Satish Kumar', 'Marketing', 123500)]"
      ]
     },
     "execution_count": 14,
     "metadata": {},
     "output_type": "execute_result"
    }
   ],
   "source": [
    "\"\"\"Q-13. Write an SQL query to show only odd rows from a table.\"\"\"\n",
    "\n",
    "cursor.execute('SELECT Id, First_Name, Department, Salary FROM worker_table WHERE Id % 2 = 1')\n",
    "cursor.fetchall()"
   ]
  },
  {
   "cell_type": "code",
   "execution_count": 16,
   "id": "f9f0c53a",
   "metadata": {},
   "outputs": [
    {
     "data": {
      "text/plain": [
       "[]"
      ]
     },
     "execution_count": 16,
     "metadata": {},
     "output_type": "execute_result"
    }
   ],
   "source": [
    "\"\"\"Q-14. Write an SQL query to clone a new table from another table.\"\"\"\n",
    "\n",
    "cursor.execute('CREATE TABLE worker1 SELECT * FROM worker_table')\n",
    "cursor.fetchall()"
   ]
  },
  {
   "cell_type": "code",
   "execution_count": 17,
   "id": "beaa445f",
   "metadata": {},
   "outputs": [
    {
     "data": {
      "text/plain": [
       "[(1,\n",
       "  'Mukesh shrestha',\n",
       "  'Top level',\n",
       "  230000,\n",
       "  datetime.datetime(2014, 2, 11, 0, 0)),\n",
       " (2,\n",
       "  'Sabita Malla',\n",
       "  'Account',\n",
       "  55000,\n",
       "  datetime.datetime(2011, 9, 23, 9, 34, 21)),\n",
       " (3,\n",
       "  'Binay Panjiyar',\n",
       "  'Account',\n",
       "  41000,\n",
       "  datetime.datetime(2014, 11, 27, 10, 35, 29)),\n",
       " (4, 'Sujan Joshi', 'Cash', 63000, datetime.datetime(2014, 2, 2, 10, 43, 39)),\n",
       " (5, 'Ram Shah', 'Driver', 32500, datetime.datetime(2014, 3, 5, 11, 35, 23)),\n",
       " (6,\n",
       "  'Hari Lama',\n",
       "  'Marketing',\n",
       "  115300,\n",
       "  datetime.datetime(2014, 2, 19, 10, 45, 13)),\n",
       " (7,\n",
       "  'Bishal Kumar',\n",
       "  'Top level',\n",
       "  215000,\n",
       "  datetime.datetime(2014, 3, 16, 12, 39, 10)),\n",
       " (8,\n",
       "  'Kavi Bhatari',\n",
       "  'Top level',\n",
       "  215000,\n",
       "  datetime.datetime(2016, 9, 22, 12, 39, 10)),\n",
       " (9,\n",
       "  'Amitabh Bhata',\n",
       "  'CEO',\n",
       "  350000,\n",
       "  datetime.datetime(2016, 9, 22, 11, 23, 17)),\n",
       " (10,\n",
       "  'Vipul Sarma',\n",
       "  'Marketing',\n",
       "  123500,\n",
       "  datetime.datetime(2014, 2, 24, 11, 23, 17)),\n",
       " (11,\n",
       "  'Satish Kumar',\n",
       "  'Marketing',\n",
       "  123500,\n",
       "  datetime.datetime(2013, 3, 22, 11, 23, 17))]"
      ]
     },
     "execution_count": 17,
     "metadata": {},
     "output_type": "execute_result"
    }
   ],
   "source": [
    "cursor.execute('SELECT * FROM worker1')\n",
    "cursor.fetchall()"
   ]
  },
  {
   "cell_type": "code",
   "execution_count": null,
   "id": "ca4dba8c",
   "metadata": {},
   "outputs": [],
   "source": []
  }
 ],
 "metadata": {
  "kernelspec": {
   "display_name": "Python 3 (ipykernel)",
   "language": "python",
   "name": "python3"
  },
  "language_info": {
   "codemirror_mode": {
    "name": "ipython",
    "version": 3
   },
   "file_extension": ".py",
   "mimetype": "text/x-python",
   "name": "python",
   "nbconvert_exporter": "python",
   "pygments_lexer": "ipython3",
   "version": "3.9.7"
  }
 },
 "nbformat": 4,
 "nbformat_minor": 5
}
