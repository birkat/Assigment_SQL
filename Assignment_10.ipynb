{
 "cells": [
  {
   "cell_type": "code",
   "execution_count": 1,
   "id": "8cee06f4",
   "metadata": {},
   "outputs": [],
   "source": [
    "import mysql.connector as conn"
   ]
  },
  {
   "cell_type": "code",
   "execution_count": 2,
   "id": "8a19292e",
   "metadata": {},
   "outputs": [],
   "source": [
    "mydb = conn.connect(host = \"localhost\", user = \"root\", passwd = \"mysql\")"
   ]
  },
  {
   "cell_type": "code",
   "execution_count": 3,
   "id": "8c7c2ed2",
   "metadata": {},
   "outputs": [],
   "source": [
    "cursor = mydb.cursor()"
   ]
  },
  {
   "cell_type": "code",
   "execution_count": 4,
   "id": "dc15f4c4",
   "metadata": {},
   "outputs": [],
   "source": [
    "cursor.execute('use assim_sql')"
   ]
  },
  {
   "cell_type": "code",
   "execution_count": 5,
   "id": "65c2ee66",
   "metadata": {},
   "outputs": [
    {
     "data": {
      "text/plain": [
       "[(1,\n",
       "  'Mukesh shrestha',\n",
       "  'Top level',\n",
       "  230000,\n",
       "  datetime.datetime(2014, 2, 11, 0, 0)),\n",
       " (2,\n",
       "  'Sabita Malla',\n",
       "  'Account',\n",
       "  55000,\n",
       "  datetime.datetime(2011, 9, 23, 9, 34, 21)),\n",
       " (3,\n",
       "  'Binay Panjiyar',\n",
       "  'Account',\n",
       "  41000,\n",
       "  datetime.datetime(2014, 11, 27, 10, 35, 29)),\n",
       " (4, 'Sujan Joshi', 'Cash', 63000, datetime.datetime(2014, 2, 2, 10, 43, 39)),\n",
       " (5, 'Ram Shah', 'Driver', 32500, datetime.datetime(2014, 3, 5, 11, 35, 23)),\n",
       " (6,\n",
       "  'Hari Lama',\n",
       "  'Marketing',\n",
       "  115300,\n",
       "  datetime.datetime(2014, 2, 19, 10, 45, 13)),\n",
       " (7,\n",
       "  'Bishal Kumar',\n",
       "  'Top level',\n",
       "  215000,\n",
       "  datetime.datetime(2014, 3, 16, 12, 39, 10)),\n",
       " (8,\n",
       "  'Kavi Bhatari',\n",
       "  'Top level',\n",
       "  215000,\n",
       "  datetime.datetime(2016, 9, 22, 12, 39, 10)),\n",
       " (9,\n",
       "  'Amitabh Bhata',\n",
       "  'CEO',\n",
       "  350000,\n",
       "  datetime.datetime(2016, 9, 22, 11, 23, 17)),\n",
       " (10,\n",
       "  'Vipul Sarma',\n",
       "  'Marketing',\n",
       "  123500,\n",
       "  datetime.datetime(2014, 2, 24, 11, 23, 17)),\n",
       " (11,\n",
       "  'Satish Kumar',\n",
       "  'Marketing',\n",
       "  123500,\n",
       "  datetime.datetime(2013, 3, 22, 11, 23, 17))]"
      ]
     },
     "execution_count": 5,
     "metadata": {},
     "output_type": "execute_result"
    }
   ],
   "source": [
    "cursor.execute('SELECT * FROM worker_table')\n",
    "cursor.fetchall()"
   ]
  },
  {
   "cell_type": "code",
   "execution_count": 6,
   "id": "321a371b",
   "metadata": {},
   "outputs": [
    {
     "data": {
      "text/plain": [
       "'Assignment_10'"
      ]
     },
     "execution_count": 6,
     "metadata": {},
     "output_type": "execute_result"
    }
   ],
   "source": [
    "\"\"\"Assignment_10\"\"\""
   ]
  },
  {
   "cell_type": "code",
   "execution_count": 7,
   "id": "b29cc04c",
   "metadata": {},
   "outputs": [
    {
     "data": {
      "text/plain": [
       "[(10, 'Vipul Sarma', 'Marketing', 123500, 5)]"
      ]
     },
     "execution_count": 7,
     "metadata": {},
     "output_type": "execute_result"
    }
   ],
   "source": [
    "\"\"\"Q-19. Write an SQL query to determine the 5th highest salary without using TOP or limit\n",
    "method.\"\"\"\n",
    "\n",
    "cursor.execute('SELECT * FROM(SELECT Id, First_Name, Department, Salary, ROW_NUMBER() OVER(ORDER BY Salary DESC) AS 5th_Highest_Salary FROM worker_table) AS N HAVING 5th_Highest_Salary = 5')\n",
    "cursor.fetchall()"
   ]
  },
  {
   "cell_type": "code",
   "execution_count": 13,
   "id": "ba0c4dde",
   "metadata": {},
   "outputs": [
    {
     "data": {
      "text/plain": [
       "[(8, 'Bishal Kumar', 'Top level', 215000),\n",
       " (7, 'Kavi Bhatari', 'Top level', 215000),\n",
       " (11, 'Vipul Sarma', 'Marketing', 123500),\n",
       " (10, 'Satish Kumar', 'Marketing', 123500)]"
      ]
     },
     "execution_count": 13,
     "metadata": {},
     "output_type": "execute_result"
    }
   ],
   "source": [
    "\"\"\"Q-20. Write an SQL query to fetch the list of employees with the same salary.\"\"\"\n",
    "\n",
    "cursor.execute('SELECT DISTINCT we1.Id, we2.First_Name, we1.Department, we1.Salary FROM worker_table we1, worker_table we2 WHERE we1.Salary = we2.Salary AND we1.Id != we2.Id')\n",
    "cursor.fetchall()"
   ]
  },
  {
   "cell_type": "code",
   "execution_count": null,
   "id": "ee9578bc",
   "metadata": {},
   "outputs": [],
   "source": []
  }
 ],
 "metadata": {
  "kernelspec": {
   "display_name": "Python 3 (ipykernel)",
   "language": "python",
   "name": "python3"
  },
  "language_info": {
   "codemirror_mode": {
    "name": "ipython",
    "version": 3
   },
   "file_extension": ".py",
   "mimetype": "text/x-python",
   "name": "python",
   "nbconvert_exporter": "python",
   "pygments_lexer": "ipython3",
   "version": "3.9.7"
  }
 },
 "nbformat": 4,
 "nbformat_minor": 5
}
