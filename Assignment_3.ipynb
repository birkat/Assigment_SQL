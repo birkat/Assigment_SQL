{
 "cells": [
  {
   "cell_type": "code",
   "execution_count": 1,
   "id": "911a7108",
   "metadata": {},
   "outputs": [
    {
     "name": "stdout",
     "output_type": "stream",
     "text": [
      "Requirement already satisfied: mysql_connector_python in c:\\users\\sudip\\anaconda3\\lib\\site-packages (8.0.28)\n",
      "Requirement already satisfied: protobuf>=3.0.0 in c:\\users\\sudip\\anaconda3\\lib\\site-packages (from mysql_connector_python) (3.19.4)\n"
     ]
    }
   ],
   "source": [
    "!pip install mysql_connector_python"
   ]
  },
  {
   "cell_type": "code",
   "execution_count": 27,
   "id": "f7107a20",
   "metadata": {},
   "outputs": [],
   "source": [
    "import mysql.connector as conn"
   ]
  },
  {
   "cell_type": "code",
   "execution_count": 28,
   "id": "ff5c8c8d",
   "metadata": {},
   "outputs": [],
   "source": [
    "mydb = conn.connect(host = \"localhost\", user = \"root\", passwd = \"mysql\")"
   ]
  },
  {
   "cell_type": "code",
   "execution_count": 29,
   "id": "ffd8294c",
   "metadata": {},
   "outputs": [],
   "source": [
    "cursor = mydb.cursor()"
   ]
  },
  {
   "cell_type": "code",
   "execution_count": 30,
   "id": "11386e18",
   "metadata": {},
   "outputs": [],
   "source": [
    "cursor.execute('show databases')"
   ]
  },
  {
   "cell_type": "code",
   "execution_count": 31,
   "id": "d37c035e",
   "metadata": {},
   "outputs": [
    {
     "data": {
      "text/plain": [
       "[('assim_sql',),\n",
       " ('bestman',),\n",
       " ('cardata',),\n",
       " ('cardataset',),\n",
       " ('glassdata',),\n",
       " ('icardata',),\n",
       " ('information_schema',),\n",
       " ('kumari',),\n",
       " ('mysql',),\n",
       " ('performance_schema',),\n",
       " ('sakila',),\n",
       " ('student',),\n",
       " ('suman',),\n",
       " ('sys',),\n",
       " ('testcav',),\n",
       " ('testsud',),\n",
       " ('testsudh',),\n",
       " ('testsudhineuron',),\n",
       " ('testsus',),\n",
       " ('world',)]"
      ]
     },
     "execution_count": 31,
     "metadata": {},
     "output_type": "execute_result"
    }
   ],
   "source": [
    "cursor.fetchall()"
   ]
  },
  {
   "cell_type": "code",
   "execution_count": 32,
   "id": "dcccdabf",
   "metadata": {},
   "outputs": [],
   "source": [
    "cursor.execute('use assim_sql')"
   ]
  },
  {
   "cell_type": "code",
   "execution_count": 33,
   "id": "346ff049",
   "metadata": {},
   "outputs": [
    {
     "data": {
      "text/plain": [
       "[(1, 'Mukesh shrestha', 'Top level', 230000),\n",
       " (2, 'Sabita Malla', 'Account', 55000),\n",
       " (3, 'Binay Panjiyar', 'Account', 41000),\n",
       " (4, 'Sujan Joshi', 'Cash', 63000),\n",
       " (5, 'Ram Shah', 'Driver', 32500),\n",
       " (6, 'Hari Lama', 'Marketing', 115300),\n",
       " (7, 'Bishal Kumar', 'Top level', 215000),\n",
       " (8, 'Kavi Bhatari', 'Top level', 215000),\n",
       " (9, 'Amitabh Bhata', 'CEO', 350000)]"
      ]
     },
     "execution_count": 33,
     "metadata": {},
     "output_type": "execute_result"
    }
   ],
   "source": [
    "cursor.execute('SELECT * FROM worker_table')\n",
    "cursor.fetchall()"
   ]
  },
  {
   "cell_type": "code",
   "execution_count": 19,
   "id": "2d60cb19",
   "metadata": {},
   "outputs": [
    {
     "data": {
      "text/plain": [
       "'Assignment_3'"
      ]
     },
     "execution_count": 19,
     "metadata": {},
     "output_type": "execute_result"
    }
   ],
   "source": [
    "\"\"\"Assignment_3\"\"\""
   ]
  },
  {
   "cell_type": "code",
   "execution_count": 20,
   "id": "e7dd73ff",
   "metadata": {},
   "outputs": [
    {
     "data": {
      "text/plain": [
       "[('Mukesh shrestha',),\n",
       " ('Sabita Malla',),\n",
       " ('Binay Panjiyar',),\n",
       " ('Sujan Joshi',),\n",
       " ('Ram Shah',),\n",
       " ('Hari Lama',),\n",
       " ('Bishal Kumar',),\n",
       " ('Kavi Bhatari',),\n",
       " ('Amitabh Bhata',)]"
      ]
     },
     "execution_count": 20,
     "metadata": {},
     "output_type": "execute_result"
    }
   ],
   "source": [
    "\"\"\"Q-1. Write an SQL query to print the FIRST_NAME from Worker table after removing\n",
    "white spaces from the right side.\"\"\"\n",
    "\n",
    "cursor.execute('SELECT RTRIM(First_Name) FROM worker_table')\n",
    "cursor.fetchall()"
   ]
  },
  {
   "cell_type": "code",
   "execution_count": 26,
   "id": "ca76bbc5",
   "metadata": {},
   "outputs": [
    {
     "data": {
      "text/plain": [
       "[('Top level', 9),\n",
       " ('Account', 7),\n",
       " ('Cash', 4),\n",
       " ('Driver', 6),\n",
       " ('Marketing', 9),\n",
       " ('CEO', 3)]"
      ]
     },
     "execution_count": 26,
     "metadata": {},
     "output_type": "execute_result"
    }
   ],
   "source": [
    "\"\"\"Q-2. Write an SQL query that fetches the unique values of DEPARTMENT from Worker\n",
    "table and prints its length.\"\"\"\n",
    "\n",
    "cursor.execute('SELECT DISTINCT Department, CHARACTER_LENGTH(Department) AS Department_Len FROM worker_table GROUP BY Department')\n",
    "cursor.fetchall()"
   ]
  },
  {
   "cell_type": "code",
   "execution_count": 37,
   "id": "241d8c2e",
   "metadata": {},
   "outputs": [
    {
     "data": {
      "text/plain": [
       "[('Amitabh Bhata', 350000, 1),\n",
       " ('Mukesh shrestha', 230000, 2),\n",
       " ('Bishal Kumar', 215000, 3),\n",
       " ('Kavi Bhatari', 215000, 4),\n",
       " ('Hari Lama', 115300, 5),\n",
       " ('Sujan Joshi', 63000, 6),\n",
       " ('Sabita Malla', 55000, 7),\n",
       " ('Binay Panjiyar', 41000, 8),\n",
       " ('Ram Shah', 32500, 9)]"
      ]
     },
     "execution_count": 37,
     "metadata": {},
     "output_type": "execute_result"
    }
   ],
   "source": [
    "\"\"\"Q-3. Write an SQL query to fetch nth max salaries from a table.\"\"\"\n",
    "\n",
    "cursor.execute('SELECT * FROM(SELECT First_Name, Salary, ROW_NUMBER() OVER(ORDER BY Salary DESC) AS N_MAX_Salary FROM worker_table) AS s')\n",
    "cursor.fetchall()"
   ]
  },
  {
   "cell_type": "code",
   "execution_count": 39,
   "id": "2c702c54",
   "metadata": {},
   "outputs": [
    {
     "data": {
      "text/plain": [
       "[('Amitabh Bhata', 350000, 1),\n",
       " ('Mukesh shrestha', 230000, 2),\n",
       " ('Bishal Kumar', 215000, 3),\n",
       " ('Kavi Bhatari', 215000, 4),\n",
       " ('Hari Lama', 115300, 5)]"
      ]
     },
     "execution_count": 39,
     "metadata": {},
     "output_type": "execute_result"
    }
   ],
   "source": [
    "cursor.execute('SELECT * FROM(SELECT First_Name, Salary, ROW_NUMBER() OVER(ORDER BY Salary DESC) AS N_Max_Salary FROM worker_table) AS S WHERE N_max_Salary <=5')\n",
    "cursor.fetchall()"
   ]
  },
  {
   "cell_type": "code",
   "execution_count": null,
   "id": "f40cb28b",
   "metadata": {},
   "outputs": [],
   "source": []
  }
 ],
 "metadata": {
  "kernelspec": {
   "display_name": "Python 3 (ipykernel)",
   "language": "python",
   "name": "python3"
  },
  "language_info": {
   "codemirror_mode": {
    "name": "ipython",
    "version": 3
   },
   "file_extension": ".py",
   "mimetype": "text/x-python",
   "name": "python",
   "nbconvert_exporter": "python",
   "pygments_lexer": "ipython3",
   "version": "3.9.7"
  }
 },
 "nbformat": 4,
 "nbformat_minor": 5
}
