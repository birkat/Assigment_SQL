{
 "cells": [
  {
   "cell_type": "code",
   "execution_count": 2,
   "id": "4f9823f9",
   "metadata": {},
   "outputs": [
    {
     "name": "stdout",
     "output_type": "stream",
     "text": [
      "Requirement already satisfied: mysql_connector_python in c:\\users\\sudip\\anaconda3\\lib\\site-packages (8.0.28)\n",
      "Requirement already satisfied: protobuf>=3.0.0 in c:\\users\\sudip\\anaconda3\\lib\\site-packages (from mysql_connector_python) (3.19.4)\n"
     ]
    }
   ],
   "source": [
    "!pip install mysql_connector_python"
   ]
  },
  {
   "cell_type": "code",
   "execution_count": 3,
   "id": "eb65b3b4",
   "metadata": {},
   "outputs": [],
   "source": [
    "import mysql.connector as conn"
   ]
  },
  {
   "cell_type": "code",
   "execution_count": 5,
   "id": "544e9a9e",
   "metadata": {},
   "outputs": [],
   "source": [
    "mydb = conn.connect(host = \"localhost\", user = \"root\", passwd = \"mysql\")"
   ]
  },
  {
   "cell_type": "code",
   "execution_count": 6,
   "id": "9a958ca6",
   "metadata": {},
   "outputs": [],
   "source": [
    "cursor = mydb.cursor()"
   ]
  },
  {
   "cell_type": "code",
   "execution_count": 7,
   "id": "0b83183c",
   "metadata": {},
   "outputs": [],
   "source": [
    "cursor.execute('use assim_sql')"
   ]
  },
  {
   "cell_type": "code",
   "execution_count": 15,
   "id": "3a929911",
   "metadata": {},
   "outputs": [
    {
     "data": {
      "text/plain": [
       "[(1, 'Mukesh shrestha', 'Top level', 230000),\n",
       " (2, 'Sabita Malla', 'Account', 55000),\n",
       " (3, 'Binay Panjiyar', 'Account', 41000),\n",
       " (4, 'Sujan Joshi', 'Cash', 63000),\n",
       " (5, 'Ram Shah', 'Driver', 32500),\n",
       " (6, 'Hari Lama', 'Marketing', 115300),\n",
       " (7, 'Bishal Kumar', 'Top level', 215000),\n",
       " (8, 'Kavi Bhatari', 'Top level', 215000),\n",
       " (9, 'Amitabh Bhata', 'CEO', 350000),\n",
       " (10, 'Vipul Sarma', 'Marketing', 123500),\n",
       " (11, 'Satish Kumar', 'Marketing', 123500)]"
      ]
     },
     "execution_count": 15,
     "metadata": {},
     "output_type": "execute_result"
    }
   ],
   "source": [
    "cursor.execute('SELECT * FROM worker_table')\n",
    "cursor.fetchall()"
   ]
  },
  {
   "cell_type": "code",
   "execution_count": 9,
   "id": "7cbd0d61",
   "metadata": {},
   "outputs": [
    {
     "data": {
      "text/plain": [
       "'Assignment_5'"
      ]
     },
     "execution_count": 9,
     "metadata": {},
     "output_type": "execute_result"
    }
   ],
   "source": [
    "\"\"\"Assignment_5\"\"\""
   ]
  },
  {
   "cell_type": "code",
   "execution_count": 13,
   "id": "a352752a",
   "metadata": {},
   "outputs": [],
   "source": [
    "cursor.execute('INSERT INTO worker_table VALUE(11, \"Satish Kumar\", \"Marketing\", 123500)')"
   ]
  },
  {
   "cell_type": "code",
   "execution_count": 14,
   "id": "1c320247",
   "metadata": {},
   "outputs": [],
   "source": [
    "mydb.commit()"
   ]
  },
  {
   "cell_type": "code",
   "execution_count": null,
   "id": "72ff44c3",
   "metadata": {},
   "outputs": [],
   "source": []
  },
  {
   "cell_type": "code",
   "execution_count": 21,
   "id": "beb68d7b",
   "metadata": {},
   "outputs": [
    {
     "data": {
      "text/plain": [
       "[(1, 'Mukesh', 'Top level', 230000),\n",
       " (2, 'Sabita', 'Account', 55000),\n",
       " (3, 'Binay', 'Account', 41000),\n",
       " (4, 'Sujan', 'Cash', 63000),\n",
       " (5, 'Ram', 'Driver', 32500),\n",
       " (6, 'Hari', 'Marketing', 115300),\n",
       " (7, 'Bishal', 'Top level', 215000),\n",
       " (8, 'Kavi', 'Top level', 215000),\n",
       " (9, 'Amitabh', 'CEO', 350000)]"
      ]
     },
     "execution_count": 21,
     "metadata": {},
     "output_type": "execute_result"
    }
   ],
   "source": [
    "\"\"\"Q-1. Write an SQL query to print details of workers excluding first names, “Vipul” and\n",
    "“Satish” from Worker table.\"\"\"\n",
    "\n",
    "cursor.execute('SELECT * FROM (SELECT Id, SUBSTRING_Index(First_Name, \" \", 1) AS Name, Department, Salary FROM worker_table) AS n WHERE Name NOT IN (\"Vipul\", \"Satish\")')\n",
    "cursor.fetchall()"
   ]
  },
  {
   "cell_type": "code",
   "execution_count": 29,
   "id": "2271a5ef",
   "metadata": {},
   "outputs": [
    {
     "data": {
      "text/plain": [
       "[(1, 'Mukesh', 'Top level', 230000), (11, 'Satish', 'Marketing', 123500)]"
      ]
     },
     "execution_count": 29,
     "metadata": {},
     "output_type": "execute_result"
    }
   ],
   "source": [
    "\"\"\"Q-2. Write an SQL query to print details of the Workers whose FIRST_NAME ends with\n",
    "‘h’ and contains six alphabets.\"\"\"\n",
    "\n",
    "cursor.execute('SELECT * FROM(SELECT Id, SUBSTRING_INDEX(First_Name, \" \", 1) AS Name, Department, Salary FROM worker_table) AS n WHERE Name LIKE \"%h\" AND CHAR_LENGTH(Name) <=6')\n",
    "cursor.fetchall()"
   ]
  },
  {
   "cell_type": "code",
   "execution_count": null,
   "id": "1803fc66",
   "metadata": {},
   "outputs": [],
   "source": [
    "\"\"\"Q-3. Write a query to validate Email of Employee.\"\"\"\n",
    "\n",
    "cursor.execute('SELECT * FROM worker_table WHERE Email LIKE \"%@gmail.com\"')\n",
    "cursor.fetchall()"
   ]
  }
 ],
 "metadata": {
  "kernelspec": {
   "display_name": "Python 3 (ipykernel)",
   "language": "python",
   "name": "python3"
  },
  "language_info": {
   "codemirror_mode": {
    "name": "ipython",
    "version": 3
   },
   "file_extension": ".py",
   "mimetype": "text/x-python",
   "name": "python",
   "nbconvert_exporter": "python",
   "pygments_lexer": "ipython3",
   "version": "3.9.7"
  }
 },
 "nbformat": 4,
 "nbformat_minor": 5
}
