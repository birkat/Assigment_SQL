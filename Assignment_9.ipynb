{
 "cells": [
  {
   "cell_type": "code",
   "execution_count": 1,
   "id": "05e4e6b5",
   "metadata": {},
   "outputs": [],
   "source": [
    "import mysql.connector as conn"
   ]
  },
  {
   "cell_type": "code",
   "execution_count": 3,
   "id": "3580ce28",
   "metadata": {},
   "outputs": [],
   "source": [
    "mydb = conn.connect(host = \"localhost\", user = \"root\", passwd = \"mysql\")"
   ]
  },
  {
   "cell_type": "code",
   "execution_count": 4,
   "id": "196606b1",
   "metadata": {},
   "outputs": [],
   "source": [
    "cursor = mydb.cursor()"
   ]
  },
  {
   "cell_type": "code",
   "execution_count": 8,
   "id": "6b1e29cf",
   "metadata": {},
   "outputs": [],
   "source": [
    "cursor.execute('use assim_sql')"
   ]
  },
  {
   "cell_type": "code",
   "execution_count": 9,
   "id": "75102ded",
   "metadata": {},
   "outputs": [
    {
     "data": {
      "text/plain": [
       "[(1,\n",
       "  'Mukesh shrestha',\n",
       "  'Top level',\n",
       "  230000,\n",
       "  datetime.datetime(2014, 2, 11, 0, 0)),\n",
       " (2,\n",
       "  'Sabita Malla',\n",
       "  'Account',\n",
       "  55000,\n",
       "  datetime.datetime(2011, 9, 23, 9, 34, 21)),\n",
       " (3,\n",
       "  'Binay Panjiyar',\n",
       "  'Account',\n",
       "  41000,\n",
       "  datetime.datetime(2014, 11, 27, 10, 35, 29)),\n",
       " (4, 'Sujan Joshi', 'Cash', 63000, datetime.datetime(2014, 2, 2, 10, 43, 39)),\n",
       " (5, 'Ram Shah', 'Driver', 32500, datetime.datetime(2014, 3, 5, 11, 35, 23)),\n",
       " (6,\n",
       "  'Hari Lama',\n",
       "  'Marketing',\n",
       "  115300,\n",
       "  datetime.datetime(2014, 2, 19, 10, 45, 13)),\n",
       " (7,\n",
       "  'Bishal Kumar',\n",
       "  'Top level',\n",
       "  215000,\n",
       "  datetime.datetime(2014, 3, 16, 12, 39, 10)),\n",
       " (8,\n",
       "  'Kavi Bhatari',\n",
       "  'Top level',\n",
       "  215000,\n",
       "  datetime.datetime(2016, 9, 22, 12, 39, 10)),\n",
       " (9,\n",
       "  'Amitabh Bhata',\n",
       "  'CEO',\n",
       "  350000,\n",
       "  datetime.datetime(2016, 9, 22, 11, 23, 17)),\n",
       " (10,\n",
       "  'Vipul Sarma',\n",
       "  'Marketing',\n",
       "  123500,\n",
       "  datetime.datetime(2014, 2, 24, 11, 23, 17)),\n",
       " (11,\n",
       "  'Satish Kumar',\n",
       "  'Marketing',\n",
       "  123500,\n",
       "  datetime.datetime(2013, 3, 22, 11, 23, 17))]"
      ]
     },
     "execution_count": 9,
     "metadata": {},
     "output_type": "execute_result"
    }
   ],
   "source": [
    "cursor.execute('SELECT * FROM worker_table')\n",
    "cursor.fetchall()"
   ]
  },
  {
   "cell_type": "code",
   "execution_count": 7,
   "id": "c4f7d9a8",
   "metadata": {},
   "outputs": [
    {
     "data": {
      "text/plain": [
       "'Assignment_9'"
      ]
     },
     "execution_count": 7,
     "metadata": {},
     "output_type": "execute_result"
    }
   ],
   "source": [
    "\"\"\"Assignment_9\"\"\""
   ]
  },
  {
   "cell_type": "code",
   "execution_count": 16,
   "id": "3271976c",
   "metadata": {},
   "outputs": [
    {
     "data": {
      "text/plain": [
       "[(1, 'Mukesh shrestha', 'Top level', 230000, 1),\n",
       " (2, 'Sabita Malla', 'Account', 55000, 2),\n",
       " (3, 'Binay Panjiyar', 'Account', 41000, 3),\n",
       " (4, 'Sujan Joshi', 'Cash', 63000, 4),\n",
       " (5, 'Ram Shah', 'Driver', 32500, 5),\n",
       " (6, 'Hari Lama', 'Marketing', 115300, 6),\n",
       " (7, 'Bishal Kumar', 'Top level', 215000, 7),\n",
       " (8, 'Kavi Bhatari', 'Top level', 215000, 8),\n",
       " (9, 'Amitabh Bhata', 'CEO', 350000, 9),\n",
       " (10, 'Vipul Sarma', 'Marketing', 123500, 10)]"
      ]
     },
     "execution_count": 16,
     "metadata": {},
     "output_type": "execute_result"
    }
   ],
   "source": [
    "\"\"\"Q-17. Write an SQL query to show the top n (say 10) records of a table.\"\"\"\n",
    "\n",
    "cursor.execute('SELECT * FROM (SELECT Id, First_Name, Department, Salary, ROW_NUMBER() OVER(ORDER BY Id) AS Records FROM worker_table) AS K HAVING Records < 11')\n",
    "cursor.fetchall()"
   ]
  },
  {
   "cell_type": "code",
   "execution_count": 17,
   "id": "27eeefc0",
   "metadata": {},
   "outputs": [
    {
     "data": {
      "text/plain": [
       "[(9, 'Amitabh Bhata', 'CEO', 350000, 1),\n",
       " (1, 'Mukesh shrestha', 'Top level', 230000, 2),\n",
       " (7, 'Bishal Kumar', 'Top level', 215000, 3),\n",
       " (8, 'Kavi Bhatari', 'Top level', 215000, 4),\n",
       " (10, 'Vipul Sarma', 'Marketing', 123500, 5)]"
      ]
     },
     "execution_count": 17,
     "metadata": {},
     "output_type": "execute_result"
    }
   ],
   "source": [
    "\"\"\"Q-18. Write an SQL query to determine the nth (say n=5) highest salary from a table.\"\"\"\n",
    "\n",
    "cursor.execute(\"SELECT * FROM(SELECT Id, First_Name, Department, Salary, ROW_NUMBER() OVER(ORDER BY Salary DESC) AS Highest_Salary FROM worker_table) AS N HAVING Highest_Salary < 6\")\n",
    "cursor.fetchall()"
   ]
  },
  {
   "cell_type": "code",
   "execution_count": null,
   "id": "e687105c",
   "metadata": {},
   "outputs": [],
   "source": []
  }
 ],
 "metadata": {
  "kernelspec": {
   "display_name": "Python 3 (ipykernel)",
   "language": "python",
   "name": "python3"
  },
  "language_info": {
   "codemirror_mode": {
    "name": "ipython",
    "version": 3
   },
   "file_extension": ".py",
   "mimetype": "text/x-python",
   "name": "python",
   "nbconvert_exporter": "python",
   "pygments_lexer": "ipython3",
   "version": "3.9.7"
  }
 },
 "nbformat": 4,
 "nbformat_minor": 5
}
