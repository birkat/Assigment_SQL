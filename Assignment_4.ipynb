{
 "cells": [
  {
   "cell_type": "code",
   "execution_count": 1,
   "id": "af8c0dab",
   "metadata": {},
   "outputs": [
    {
     "name": "stdout",
     "output_type": "stream",
     "text": [
      "Requirement already satisfied: mysql_connector_python in c:\\users\\sudip\\anaconda3\\lib\\site-packages (8.0.28)\n",
      "Requirement already satisfied: protobuf>=3.0.0 in c:\\users\\sudip\\anaconda3\\lib\\site-packages (from mysql_connector_python) (3.19.4)\n"
     ]
    }
   ],
   "source": [
    "!pip install mysql_connector_python"
   ]
  },
  {
   "cell_type": "code",
   "execution_count": 11,
   "id": "38390b9c",
   "metadata": {},
   "outputs": [],
   "source": [
    "import mysql.connector as conn"
   ]
  },
  {
   "cell_type": "code",
   "execution_count": 12,
   "id": "8a48c63e",
   "metadata": {},
   "outputs": [],
   "source": [
    "mydb = conn.connect(host = \"localhost\", user = \"root\", passwd = \"mysql\")"
   ]
  },
  {
   "cell_type": "code",
   "execution_count": 13,
   "id": "2c86cbd4",
   "metadata": {},
   "outputs": [],
   "source": [
    "cursor = mydb.cursor()"
   ]
  },
  {
   "cell_type": "code",
   "execution_count": 14,
   "id": "34d83f4a",
   "metadata": {},
   "outputs": [],
   "source": [
    "cursor.execute('show databases')"
   ]
  },
  {
   "cell_type": "code",
   "execution_count": 15,
   "id": "e9a00d71",
   "metadata": {},
   "outputs": [
    {
     "data": {
      "text/plain": [
       "[('assim_sql',),\n",
       " ('bestman',),\n",
       " ('cardata',),\n",
       " ('cardataset',),\n",
       " ('glassdata',),\n",
       " ('icardata',),\n",
       " ('information_schema',),\n",
       " ('kumari',),\n",
       " ('mysql',),\n",
       " ('performance_schema',),\n",
       " ('sakila',),\n",
       " ('student',),\n",
       " ('suman',),\n",
       " ('sys',),\n",
       " ('testcav',),\n",
       " ('testsud',),\n",
       " ('testsudh',),\n",
       " ('testsudhineuron',),\n",
       " ('testsus',),\n",
       " ('world',)]"
      ]
     },
     "execution_count": 15,
     "metadata": {},
     "output_type": "execute_result"
    }
   ],
   "source": [
    "cursor.fetchall()"
   ]
  },
  {
   "cell_type": "code",
   "execution_count": 16,
   "id": "485de26e",
   "metadata": {},
   "outputs": [],
   "source": [
    "cursor.execute('use assim_sql')"
   ]
  },
  {
   "cell_type": "code",
   "execution_count": 17,
   "id": "fffdd1e8",
   "metadata": {},
   "outputs": [
    {
     "data": {
      "text/plain": [
       "[(1, 'Mukesh shrestha', 'Top level', 230000),\n",
       " (2, 'Sabita Malla', 'Account', 55000),\n",
       " (3, 'Binay Panjiyar', 'Account', 41000),\n",
       " (4, 'Sujan Joshi', 'Cash', 63000),\n",
       " (5, 'Ram Shah', 'Driver', 32500),\n",
       " (6, 'Hari Lama', 'Marketing', 115300),\n",
       " (7, 'Bishal Kumar', 'Top level', 215000),\n",
       " (8, 'Kavi Bhatari', 'Top level', 215000),\n",
       " (9, 'Amitabh Bhata', 'CEO', 350000)]"
      ]
     },
     "execution_count": 17,
     "metadata": {},
     "output_type": "execute_result"
    }
   ],
   "source": [
    "cursor.execute('SELECT * FROM worker_table')\n",
    "cursor.fetchall()"
   ]
  },
  {
   "cell_type": "code",
   "execution_count": 18,
   "id": "2458f33c",
   "metadata": {},
   "outputs": [
    {
     "data": {
      "text/plain": [
       "'Assignment_4'"
      ]
     },
     "execution_count": 18,
     "metadata": {},
     "output_type": "execute_result"
    }
   ],
   "source": [
    "\"\"\"Assignment_4\"\"\""
   ]
  },
  {
   "cell_type": "code",
   "execution_count": 20,
   "id": "70ce833f",
   "metadata": {},
   "outputs": [
    {
     "data": {
      "text/plain": [
       "[('Mukesh shresthA',),\n",
       " ('SAbitA MAllA',),\n",
       " ('BinAy PAnjiyAr',),\n",
       " ('SujAn Joshi',),\n",
       " ('RAm ShAh',),\n",
       " ('HAri LAmA',),\n",
       " ('BishAl KumAr',),\n",
       " ('KAvi BhAtAri',),\n",
       " ('AmitAbh BhAtA',)]"
      ]
     },
     "execution_count": 20,
     "metadata": {},
     "output_type": "execute_result"
    }
   ],
   "source": [
    "\"\"\"Q-1. Write an SQL query to print the FIRST_NAME from Worker table after replacing ‘a’ with ‘A’.\"\"\"\n",
    "\n",
    "cursor.execute('SELECT REPLACE(First_Name, \"a\", \"A\") AS Name FROM worker_table')\n",
    "cursor.fetchall()"
   ]
  },
  {
   "cell_type": "code",
   "execution_count": 21,
   "id": "d56c8d32",
   "metadata": {},
   "outputs": [
    {
     "data": {
      "text/plain": [
       "[('Amitabh Bhata', 'CEO'),\n",
       " ('Binay Panjiyar', 'Account'),\n",
       " ('Bishal Kumar', 'Top level'),\n",
       " ('Hari Lama', 'Marketing'),\n",
       " ('Kavi Bhatari', 'Top level'),\n",
       " ('Mukesh shrestha', 'Top level'),\n",
       " ('Ram Shah', 'Driver'),\n",
       " ('Sabita Malla', 'Account'),\n",
       " ('Sujan Joshi', 'Cash')]"
      ]
     },
     "execution_count": 21,
     "metadata": {},
     "output_type": "execute_result"
    }
   ],
   "source": [
    "\"\"\"Q-2. Write an SQL query to print all Worker details from the Worker table order by\n",
    "FIRST_NAME Ascending and DEPARTMENT Descending.\"\"\"\n",
    "\n",
    "cursor.execute('SELECT First_Name, Department FROM worker_table ORDER BY First_Name asc, Department DESC')\n",
    "cursor.fetchall()"
   ]
  },
  {
   "cell_type": "code",
   "execution_count": 22,
   "id": "0c8a5d12",
   "metadata": {},
   "outputs": [
    {
     "data": {
      "text/plain": [
       "[('Amitabh Bhata', 350000),\n",
       " ('Mukesh shrestha', 230000),\n",
       " ('Bishal Kumar', 215000),\n",
       " ('Kavi Bhatari', 215000),\n",
       " ('Hari Lama', 115300),\n",
       " ('Sujan Joshi', 63000),\n",
       " ('Sabita Malla', 55000),\n",
       " ('Binay Panjiyar', 41000),\n",
       " ('Ram Shah', 32500)]"
      ]
     },
     "execution_count": 22,
     "metadata": {},
     "output_type": "execute_result"
    }
   ],
   "source": [
    "\"\"\"Q-3. Write an SQL query to fetch the names of workers who earn the highest salary.\"\"\"\n",
    "\n",
    "cursor.execute('SELECT First_Name, Salary FROM worker_table ORDER BY Salary DESC')\n",
    "cursor.fetchall()"
   ]
  },
  {
   "cell_type": "code",
   "execution_count": null,
   "id": "bcc7bb21",
   "metadata": {},
   "outputs": [],
   "source": []
  }
 ],
 "metadata": {
  "kernelspec": {
   "display_name": "Python 3 (ipykernel)",
   "language": "python",
   "name": "python3"
  },
  "language_info": {
   "codemirror_mode": {
    "name": "ipython",
    "version": 3
   },
   "file_extension": ".py",
   "mimetype": "text/x-python",
   "name": "python",
   "nbconvert_exporter": "python",
   "pygments_lexer": "ipython3",
   "version": "3.9.7"
  }
 },
 "nbformat": 4,
 "nbformat_minor": 5
}
